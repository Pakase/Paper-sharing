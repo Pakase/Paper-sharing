{
 "cells": [
  {
   "cell_type": "markdown",
   "id": "51bd0be2",
   "metadata": {},
   "source": [
    "### CVPR 2022 \n",
    "\n",
    "##### 1.Dynamic Dual-Output Diffusion Models\n",
    "https://openaccess.thecvf.com/content/CVPR2022/papers/Benny_Dynamic_Dual-Output_Diffusion_Models_CVPR_2022_paper.pdf  \n",
    "\n",
    "--------\n",
    "\n",
    "##### 2.Global Context with Discrete Diffusion in Vector Quantised Modelling for Image Generation\n",
    "https://openaccess.thecvf.com/content/CVPR2022/papers/Hu_Global_Context_With_Discrete_Diffusion_in_Vector_Quantised_Modelling_for_CVPR_2022_paper.pdf  \n",
    "\n",
    "---------\n",
    "\n",
    "##### 3.High-Resolution Image Synthesis With Latent Diffusion Models \n",
    "https://openaccess.thecvf.com/content/CVPR2022/papers/Rombach_High-Resolution_Image_Synthesis_With_Latent_Diffusion_Models_CVPR_2022_paper.pdf  \n",
    "\n",
    "----------\n",
    "\n",
    "##### 4.Generating High Fidelity Data From Low-Density Regions Using Diffusion Models\n",
    "https://openaccess.thecvf.com/content/CVPR2022/papers/Sehwag_Generating_High_Fidelity_Data_From_Low-Density_Regions_Using_Diffusion_Models_CVPR_2022_paper.pdf  \n",
    "Our work focuses on addressing sample deficiency from low-density regions of data manifold in common image datasets. We leverage diffusion process based generative models to synthesize novel images from low-density regions. We observe that uniform sampling from diffusion models predominantly samples from high-density regions of the data manifold. Therefore, we modify the sampling process to guide it towards low-density regions while simultaneously maintaining the fidelity of synthetic data. We rigorously demonstrate that our process successfully generates novel high fidelity samples from low-density regions. We further examine generated samples and show that the model does not memorize low-density data and indeed learns to generate novel samples from low-density regions.  \n",
    "\n",
    "---------\n",
    "\n",
    "##### 5.Diffusion Autoencoders: Toward a Meaningful and Decodable Representation\n",
    "https://openaccess.thecvf.com/content/CVPR2022/papers/Preechakul_Diffusion_Autoencoders_Toward_a_Meaningful_and_Decodable_Representation_CVPR_2022_paper.pdf  \n",
    "\n",
    "---------\n",
    "\n",
    "##### 6.Perception Prioritized Training of Diffusion Models\n",
    "https://openaccess.thecvf.com/content/CVPR2022/papers/Choi_Perception_Prioritized_Training_of_Diffusion_Models_CVPR_2022_paper.pdf  \n",
    "Diffusion models learn to restore noisy data, which is corrupted with different levels of noise, by optimizing the weighted sum of the corresponding loss terms, i.e., denoising score matching loss. In this paper, we show that restoring data corrupted with certain noise levels offers a proper pretext task for the model to learn rich visual concepts. We propose to prioritize such noise levels over other levels during training, by redesigning the weighting scheme of the objective function. We show that our simple redesign of the weighting scheme significantly improves the performance of diffusion models regardless of the datasets, architectures, and sampling strategies.  \n",
    "\n",
    "-----------\n",
    "\n",
    "##### 7.Vector Quantized Diffusion Model for Text-to-Image Synthesis\n",
    "https://openaccess.thecvf.com/content/CVPR2022/papers/Gu_Vector_Quantized_Diffusion_Model_for_Text-to-Image_Synthesis_CVPR_2022_paper.pdf  \n",
    "\n",
    "-----------\n",
    "\n",
    "##### 8.Blended Diffusion for Text-driven Editing of Natural Images\n",
    "https://openaccess.thecvf.com/content/CVPR2022/papers/Avrahami_Blended_Diffusion_for_Text-Driven_Editing_of_Natural_Images_CVPR_2022_paper.pdf  "
   ]
  },
  {
   "cell_type": "code",
   "execution_count": null,
   "id": "85e49a38",
   "metadata": {},
   "outputs": [],
   "source": []
  }
 ],
 "metadata": {
  "kernelspec": {
   "display_name": "Python 3 (ipykernel)",
   "language": "python",
   "name": "python3"
  },
  "language_info": {
   "codemirror_mode": {
    "name": "ipython",
    "version": 3
   },
   "file_extension": ".py",
   "mimetype": "text/x-python",
   "name": "python",
   "nbconvert_exporter": "python",
   "pygments_lexer": "ipython3",
   "version": "3.9.13"
  }
 },
 "nbformat": 4,
 "nbformat_minor": 5
}
